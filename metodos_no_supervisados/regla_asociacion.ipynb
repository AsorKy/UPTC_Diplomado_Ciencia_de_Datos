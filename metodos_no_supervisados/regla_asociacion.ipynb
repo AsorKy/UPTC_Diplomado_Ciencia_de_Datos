{
  "cells": [
    {
      "cell_type": "markdown",
      "metadata": {
        "colab_type": "text",
        "id": "view-in-github"
      },
      "source": [
        "<a href=\"https://colab.research.google.com/github/contreras-juan/UPTC_Diplomado_Ciencia_de_Datos/blob/main/metodos_no_supervisados/regla_asociacion.ipynb\" target=\"_parent\"><img src=\"https://colab.research.google.com/assets/colab-badge.svg\" alt=\"Open In Colab\"/></a>"
      ]
    },
    {
      "cell_type": "markdown",
      "metadata": {},
      "source": [
        "<center>\n",
        "<img src=\"https://storage.googleapis.com/adonaivera_certified/banner.png\">\n",
        "    \n",
        "##  Diplomado en Ciencia de Datos - Cohorte 2024\n",
        "\n",
        "Author: [Adonai Vera](https://www.linkedin.com/in/adonai-vera/) & [Jose Bohorquez](https://www.linkedin.com/in/jos%C3%A9-daniel-boh%C3%B3rquez-guerra-5bba281b3/)"
      ]
    },
    {
      "cell_type": "markdown",
      "metadata": {
        "id": "qjt79ZgGoz1W"
      },
      "source": [
        "## Reglas de Asociación\n",
        "\n",
        "### Introducción\n",
        "\n",
        "En esta clase, exploraremos el concepto de reglas de asociación en el contexto del análisis de datos. Los algoritmos de reglas de asociación son métodos utilizados en minería de datos para descubrir patrones y relaciones entre diferentes elementos en un conjunto de datos. Estos algoritmos son ampliamente utilizados en diversas aplicaciones, como el análisis de cestas de la compra en tiendas minoristas, la recomendación de productos en línea, la detección de fraudes en transacciones financieras, entre otros.\n",
        "\n",
        "### Algoritmos de reglas de asociación:\n",
        "\n",
        "1. Apriori:\n",
        "Apriori es uno de los algoritmos más conocidos para la generación de conjuntos de ítems frecuentes y la extracción de reglas de asociación. Utiliza un enfoque de búsqueda de fuerza bruta para encontrar todos los conjuntos de ítems frecuentes en un conjunto de datos. El algoritmo Apriori se basa en el principio de que si un conjunto de ítems es frecuente, entonces todos sus subconjuntos también deben ser frecuentes.\n",
        "\n",
        "2. FP-Growth (Frequent Pattern Growth):\n",
        "FP-Growth es un algoritmo alternativo a Apriori para la generación de conjuntos de ítems frecuentes. Utiliza una estructura de datos de árbol de prefijos (FP-tree) para almacenar información sobre los conjuntos de ítems frecuentes en un conjunto de datos. FP-Growth es especialmente eficiente para conjuntos de datos grandes y dispersos, ya que evita la generación explícita de los conjuntos de ítems candidatos.\n",
        "\n",
        "3. Eclat:\n",
        "Eclat es otro algoritmo popular para la extracción de conjuntos de ítems frecuentes. A diferencia de Apriori, que utiliza un enfoque de generación de candidatos, Eclat utiliza un enfoque de búsqueda de patrones verticales. Este enfoque implica la construcción de una matriz vertical que representa la presencia de los ítems en cada transacción, lo que permite una búsqueda más eficiente de los conjuntos de ítems frecuentes.\n",
        "\n",
        "4. Algoritmos basados en métodos de optimización:\n",
        "Además de Apriori, FP-Growth y Eclat, existen otros algoritmos de reglas de asociación que se basan en métodos de optimización, como el algoritmo de alza (Rise), el algoritmo GenMax, entre otros. Estos algoritmos pueden ofrecer eficiencia y rendimiento mejorados en comparación con los enfoques de fuerza bruta.\n",
        "\n",
        "Estos son solo algunos de los algoritmos más comunes utilizados para la extracción de reglas de asociación. La elección del algoritmo adecuado depende de varios factores, como el tamaño y la densidad del conjunto de datos, los recursos computacionales disponibles y los requisitos de rendimiento del sistema. En general, los algoritmos como Apriori, FP-Growth y Eclat son los más utilizados en la práctica debido a su eficacia y capacidad para manejar conjuntos de datos grandes."
      ]
    },
    {
      "cell_type": "markdown",
      "metadata": {
        "id": "twT-qhsZoz1Y"
      },
      "source": [
        "### Definiciones y Conceptos\n",
        "\n",
        "Antes de comenzar, repasemos algunas definiciones importantes:\n",
        "\n",
        "- Soporte: El soporte de un conjunto de elementos en un conjunto de datos mide la frecuencia con la que aparece ese conjunto en relación con el número total de transacciones.\n",
        "- Conjuntos de Ítems Frecuentes: Conjuntos de elementos que tienen un soporte igual o superior al umbral mínimo especificado.\n",
        "- Reglas de Asociación: Relaciones entre conjuntos de ítems que cumplen ciertos criterios, como el soporte y la confianza."
      ]
    },
    {
      "cell_type": "markdown",
      "metadata": {
        "id": "acbfnEKSoz1Y"
      },
      "source": [
        "### Ejemplo 1\n",
        "\n",
        "#### Generación de Datos\n",
        "Generaremos un conjunto de datos sintético que simula transacciones de compra en una tienda minorista. Cada fila del DataFrame representa una transacción, donde los productos comprados se almacenan como una lista."
      ]
    },
    {
      "cell_type": "code",
      "execution_count": null,
      "metadata": {
        "id": "X_bthVoYoz1Y",
        "outputId": "c4239eb7-625a-4593-c3d9-88fe20359a5d"
      },
      "outputs": [
        {
          "name": "stdout",
          "output_type": "stream",
          "text": [
            "Primeras 5 transacciones:\n",
            "                                           Productos\n",
            "0        [Galletas, Huevos, Pan, Cerveza, Chocolate]\n",
            "1   [Queso, Pan, Chocolate, Galletas, Frutas, Leche]\n",
            "2  [Frutas, Huevos, Queso, Cerveza, Pan, Leche, V...\n",
            "3                                           [Frutas]\n",
            "4                [Frutas, Huevos, Galletas, Cerveza]\n"
          ]
        }
      ],
      "source": [
        "import pandas as pd\n",
        "import numpy as np\n",
        "\n",
        "# Generar datos sintéticos de transacciones\n",
        "np.random.seed(0)\n",
        "n_transactions = 1000\n",
        "products = ['Leche', 'Pan', 'Huevos', 'Queso', 'Cerveza', 'Frutas', 'Verduras', 'Galletas', 'Chocolate']\n",
        "transactions = []\n",
        "for _ in range(n_transactions):\n",
        "    transaction = np.random.choice(products, size=np.random.randint(1, len(products)), replace=False)\n",
        "    transactions.append(transaction)\n",
        "\n",
        "# Crear DataFrame de transacciones\n",
        "df_transactions = pd.DataFrame({'Productos': transactions})\n",
        "print(\"Primeras 5 transacciones:\")\n",
        "print(df_transactions.head())\n"
      ]
    },
    {
      "cell_type": "markdown",
      "metadata": {
        "id": "Civ2OyAWoz1Y"
      },
      "source": [
        "Una vez generados los datos sintéticos de transacciones de compra. Se elige aleatoriamente un número variable de productos de la lista de productos definida y se crea una lista de productos para cada transacción. Luego, estas listas se almacenan en un DataFrame llamado `df_transactions`.\n",
        "\n",
        "Un poco mas del código:\n",
        "- Se importan las bibliotecas `pandas` y `numpy`.\n",
        "- Se establece una semilla aleatoria para reproducibilidad.\n",
        "- Se define una lista de productos disponibles.\n",
        "- Se generan las transacciones mediante un bucle que elige aleatoriamente un número variable de productos de la lista y los agrega a la lista de transacciones.\n",
        "- Se crea un DataFrame `df_transactions` con la lista de transacciones y se imprime la cabeza del DataFrame.\n",
        "\n",
        "\n",
        "#### Visualización de la distribución\n",
        "\n",
        "De ahi que, visualizaremos la distribución de las transacciones por el número de productos comprados en cada una. Esto nos dará una idea de cómo están distribuidas las transacciones en términos de su tamaño."
      ]
    },
    {
      "cell_type": "code",
      "execution_count": null,
      "metadata": {
        "id": "-pDpRZ18oz1Z",
        "outputId": "8d8ebd0e-8f84-4ce8-b2d3-59c6af0ea56b"
      },
      "outputs": [
        {
          "data": {
            "image/png": "[encoded data removed]",
            "text/plain": [
              "<Figure size 640x480 with 1 Axes>"
            ]
          },
          "metadata": {},
          "output_type": "display_data"
        }
      ],
      "source": [
        "import matplotlib.pyplot as plt\n",
        "\n",
        "# Contar la frecuencia de las transacciones por número de productos\n",
        "transaction_lengths = df_transactions['Productos'].apply(len)\n",
        "transaction_lengths_counts = transaction_lengths.value_counts().sort_index()\n",
        "\n",
        "# Visualizar la distribución de transacciones por número de productos\n",
        "plt.bar(transaction_lengths_counts.index, transaction_lengths_counts.values)\n",
        "plt.xlabel('Número de Productos en la Transacción')\n",
        "plt.ylabel('Número de Transacciones')\n",
        "plt.title('Distribución de Transacciones por Número de Productos')\n",
        "plt.show()\n"
      ]
    },
    {
      "cell_type": "markdown",
      "metadata": {
        "id": "KQul6WmOoz1Z"
      },
      "source": [
        "Esto nos proporciona información sobre la variabilidad en el tamaño de las transacciones.\n",
        "\n",
        "Y si nos vamos al código:\n",
        "- Se importa la biblioteca `matplotlib.pyplot` para visualización.\n",
        "- Se cuentan las frecuencias de los diferentes números de productos en las transacciones.\n",
        "- Se crea un gráfico de barras que muestra el número de transacciones en función del número de productos en cada una.\n",
        "\n",
        "#### Aplicación de Apriori\n",
        "Ahora, convertiremos la lista de productos en una matriz binaria donde las filas representan las transacciones y las columnas representan los productos. Luego, aplicamos el algoritmo Apriori para encontrar conjuntos de ítems frecuentes en la matriz binaria.\n"
      ]
    },
    {
      "cell_type": "code",
      "execution_count": null,
      "metadata": {
        "id": "j8dUJIazoz1Z",
        "outputId": "d4ec40c6-cde9-4e9c-820e-034b53e4f38a"
      },
      "outputs": [
        {
          "name": "stdout",
          "output_type": "stream",
          "text": [
            "Los 10 conjuntos de ítems frecuentes más grandes:\n",
            "    support              itemsets\n",
            "3     0.513            (Galletas)\n",
            "4     0.508              (Huevos)\n",
            "0     0.506             (Cerveza)\n",
            "8     0.506            (Verduras)\n",
            "1     0.505           (Chocolate)\n",
            "2     0.503              (Frutas)\n",
            "6     0.500                 (Pan)\n",
            "7     0.500               (Queso)\n",
            "5     0.472               (Leche)\n",
            "34    0.309  (Galletas, Verduras)\n"
          ]
        }
      ],
      "source": [
        "from mlxtend.frequent_patterns import apriori\n",
        "from mlxtend.frequent_patterns import association_rules\n",
        "\n",
        "# Convertir la lista de productos en una matriz binaria\n",
        "basket_sets = pd.get_dummies(df_transactions['Productos'].apply(pd.Series).stack()).groupby(level=0).max()\n",
        "\n",
        "# Generar conjuntos de ítems frecuentes con el algoritmo Apriori\n",
        "frequent_itemsets = apriori(basket_sets, min_support=0.05, use_colnames=True)\n",
        "\n",
        "# Mostrar los 10 conjuntos de ítems frecuentes más grandes\n",
        "largest_frequent_itemsets = frequent_itemsets.sort_values(by='support', ascending=False).head(10)\n",
        "print(\"Los 10 conjuntos de ítems frecuentes más grandes:\")\n",
        "print(largest_frequent_itemsets)\n"
      ]
    },
    {
      "cell_type": "markdown",
      "metadata": {
        "id": "2jlHntFGoz1Z"
      },
      "source": [
        "Ya con los conjuntos de ítems encontrados, nos vamos al código:\n",
        "\n",
        "- Se importa la función `apriori` del módulo `mlxtend.frequent_patterns`.\n",
        "- Se convierte la lista de productos en una matriz binaria utilizando `pd.get_dummies()`. Cada fila de la matriz representa una transacción y cada columna representa un producto.\n",
        "- Se agrupa la matriz binaria por nivel de índice 0 (transacciones) y se toma el máximo en cada grupo para obtener una única fila por transacción.\n",
        "- Se aplica el algoritmo Apriori para encontrar conjuntos de ítems frecuentes en la matriz binaria, especificando un umbral de soporte mínimo del 5%.\n",
        "- Se imprime los 10 conjuntos de ítems frecuentes más grandes encontrados, ordenados por su soporte en orden descendente.\n",
        "\n",
        "\n",
        "#### Generación de Reglas de Asociación\n",
        "\n",
        "Con las siguientes lineas generaremos reglas de asociación a partir de los conjuntos de ítems frecuentes encontrados por Apriori y luego filtraremos las reglas basadas en ciertos criterios como la confianza y el soporte.\n"
      ]
    },
    {
      "cell_type": "code",
      "execution_count": null,
      "metadata": {
        "id": "UICVUJPIoz1Z",
        "outputId": "381ffc3b-4fc8-46d1-96dd-1c44aa647f5d"
      },
      "outputs": [
        {
          "name": "stdout",
          "output_type": "stream",
          "text": [
            "Reglas de Asociación filtradas:\n",
            "                   antecedents  consequents  antecedent support  \\\n",
            "18                 (Chocolate)   (Galletas)               0.505   \n",
            "28                 (Chocolate)   (Verduras)               0.505   \n",
            "29                  (Verduras)  (Chocolate)               0.506   \n",
            "30                    (Frutas)   (Galletas)               0.503   \n",
            "31                  (Galletas)     (Frutas)               0.513   \n",
            "...                        ...          ...                 ...   \n",
            "2314      (Huevos, Pan, Queso)   (Verduras)               0.179   \n",
            "2315    (Verduras, Queso, Pan)     (Huevos)               0.191   \n",
            "2326  (Verduras, Queso, Leche)        (Pan)               0.172   \n",
            "2328    (Verduras, Leche, Pan)      (Queso)               0.171   \n",
            "2329       (Pan, Queso, Leche)   (Verduras)               0.165   \n",
            "\n",
            "      consequent support  support  confidence      lift  leverage  conviction  \\\n",
            "18                 0.513    0.307    0.607921  1.185031  0.047935    1.242096   \n",
            "28                 0.506    0.304    0.601980  1.189684  0.048470    1.241144   \n",
            "29                 0.505    0.304    0.600791  1.189684  0.048470    1.239950   \n",
            "30                 0.513    0.308    0.612326  1.193618  0.049961    1.256210   \n",
            "31                 0.503    0.308    0.600390  1.193618  0.049961    1.243712   \n",
            "...                  ...      ...         ...       ...       ...         ...   \n",
            "2314               0.506    0.125    0.698324  1.380087  0.034426    1.637519   \n",
            "2315               0.508    0.125    0.654450  1.288288  0.027972    1.423818   \n",
            "2326               0.500    0.111    0.645349  1.290698  0.025000    1.409836   \n",
            "2328               0.500    0.111    0.649123  1.298246  0.025500    1.425000   \n",
            "2329               0.506    0.111    0.672727  1.329501  0.027510    1.509444   \n",
            "\n",
            "      zhangs_metric  \n",
            "18         0.315434  \n",
            "28         0.322103  \n",
            "29         0.322755  \n",
            "30         0.326380  \n",
            "31         0.333082  \n",
            "...             ...  \n",
            "2314       0.335454  \n",
            "2315       0.276608  \n",
            "2326       0.272011  \n",
            "2328       0.277117  \n",
            "2329       0.296812  \n",
            "\n",
            "[719 rows x 10 columns]\n"
          ]
        }
      ],
      "source": [
        "# Generar reglas de asociación\n",
        "rules = association_rules(frequent_itemsets, metric='lift', min_threshold=1.0)\n",
        "\n",
        "# Filtrar reglas por confianza y soporte\n",
        "filtered_rules = rules[(rules['confidence'] > 0.6) & (rules['support'] > 0.1)]\n",
        "\n",
        "print(\"Reglas de Asociación filtradas:\")\n",
        "print(filtered_rules)\n"
      ]
    },
    {
      "cell_type": "markdown",
      "metadata": {
        "id": "wRzvR7R1oz1Z"
      },
      "source": [
        "y del código:\n",
        "\n",
        "- Se importa la función `association_rules` del módulo `mlxtend.frequent_patterns`.\n",
        "- Se genera un conjunto de reglas de asociación a partir de los conjuntos de ítems frecuentes encontrados por Apriori, utilizando el criterio de lift mínimo de 1.0.\n",
        "- Se filtran las reglas por confianza (> 0.6) y soporte (> 0.1) para obtener solo las reglas más fuertes y relevantes.\n",
        "- Se imprimen las reglas de asociación filtradas.\n",
        "\n",
        "Este proceso completo nos permite explorar patrones y relaciones interesantes entre los productos en nuestro conjunto de datos de transacciones de compra. Las reglas de asociación encontradas pueden proporcionar información valiosa para la toma de decisiones en negocios, como estrategias de marketing o disposición de productos en tiendas.\n",
        "\n",
        "\n",
        "``"
      ]
    },
    {
      "cell_type": "markdown",
      "metadata": {
        "id": "O7XAs3Cdoz1Z"
      },
      "source": [
        "## Ejemplo 2\n",
        "\n",
        "Descripción del Proceso:\n",
        "1. Generación de Datos:\n",
        "Generaremos un conjunto de datos sintéticos que simula transacciones de compra en una tienda minorista, similar al ejemplo de Apriori.\n",
        "\n",
        "2. Visualización de la Distribución de Transacciones:\n",
        "Visualizaremos la distribución de las transacciones por el número de productos comprados en cada una.\n",
        "\n",
        "3. Aplicación de FP-Growth:\n",
        "Convertiremos la lista de productos en una matriz binaria y aplicaremos el algoritmo FP-Growth para encontrar conjuntos de ítems frecuentes en el conjunto de datos.\n",
        "\n",
        "4. Generación de Reglas de Asociación:\n",
        "Generaremos reglas de asociación a partir de los conjuntos de ítems frecuentes encontrados por FP-Growth."
      ]
    },
    {
      "cell_type": "markdown",
      "metadata": {
        "id": "K3aITtbDoz1Z"
      },
      "source": [
        "#### Generación de Datos\n",
        "\n",
        "Generamos un conjunto de datos sintéticos de transacciones de compra en una tienda minorista. Cada fila del DataFrame representa una transacción, donde los productos comprados se almacenan como una lista."
      ]
    },
    {
      "cell_type": "code",
      "execution_count": null,
      "metadata": {
        "id": "wygrx9dnoz1Z",
        "outputId": "cf55379e-ef5f-4641-e0ec-160f7fca19f6"
      },
      "outputs": [
        {
          "name": "stdout",
          "output_type": "stream",
          "text": [
            "Primeras 5 transacciones:\n",
            "                                           Productos\n",
            "0        [Galletas, Huevos, Pan, Cerveza, Chocolate]\n",
            "1   [Queso, Pan, Chocolate, Galletas, Frutas, Leche]\n",
            "2  [Frutas, Huevos, Queso, Cerveza, Pan, Leche, V...\n",
            "3                                           [Frutas]\n",
            "4                [Frutas, Huevos, Galletas, Cerveza]\n"
          ]
        }
      ],
      "source": [
        "import pandas as pd\n",
        "import numpy as np\n",
        "\n",
        "# Generar datos sintéticos de transacciones\n",
        "np.random.seed(0)\n",
        "n_transactions = 1000\n",
        "products = ['Leche', 'Pan', 'Huevos', 'Queso', 'Cerveza', 'Frutas', 'Verduras', 'Galletas', 'Chocolate']\n",
        "transactions = []\n",
        "for _ in range(n_transactions):\n",
        "    transaction = np.random.choice(products, size=np.random.randint(1, len(products)), replace=False)\n",
        "    transactions.append(transaction)\n",
        "\n",
        "# Crear DataFrame de transacciones\n",
        "df_transactions = pd.DataFrame({'Productos': transactions})\n",
        "print(\"Primeras 5 transacciones:\")\n",
        "print(df_transactions.head())\n"
      ]
    },
    {
      "cell_type": "markdown",
      "metadata": {
        "id": "W7x5yiLooz1Z"
      },
      "source": [
        "Un poco mas de qué se hizo:\n",
        "\n",
        "- Importamos las bibliotecas `pandas` y `numpy` que son herramientas fundamentales para el manejo y la manipulación de datos en Python.\n",
        "- Fijamos la semilla aleatoria para garantizar que los resultados sean reproducibles con  `np.random.seed(0)`.\n",
        "- Definimos una lista de productos disponibles en la tienda.\n",
        "- Iteramos sobre un rango de transacciones (`n_transactions`) y para cada transacción, elegimos aleatoriamente un número variable de productos de la lista, sin reemplazo. Esto se hace con la función `np.random.choice()`.\n",
        "- Las transacciones se almacenan en la lista transactions.\n",
        "- Utilizamos la lista de transacciones generada para crear un DataFrame de pandas llamado `df_transactions`.\n",
        "- La columna 'Productos' contiene las listas de productos correspondientes a cada transacción.\n",
        "- Simplemente imprimimos las primeras 5 filas del DataFrame para visualizar cómo se estructuran las transacciones.\n",
        "\n",
        "#### Visualización de la Distribución de Transacciones\n",
        "\n",
        "Visualizaremos la distribución de las transacciones por el número de productos comprados en cada una. Esto, proporciona información sobre la variabilidad en el tamaño de las transacciones."
      ]
    },
    {
      "cell_type": "code",
      "execution_count": null,
      "metadata": {
        "id": "wMl0iiCLoz1Z",
        "outputId": "3b1e24c1-dfdf-43f8-89a3-1753eb4b370c"
      },
      "outputs": [
        {
          "data": {
            "image/png": "[encoded data removed]",
            "text/plain": [
              "<Figure size 640x480 with 1 Axes>"
            ]
          },
          "metadata": {},
          "output_type": "display_data"
        }
      ],
      "source": [
        "import matplotlib.pyplot as plt\n",
        "\n",
        "# Contar la frecuencia de las transacciones por número de productos\n",
        "transaction_lengths = df_transactions['Productos'].apply(len)\n",
        "transaction_lengths_counts = transaction_lengths.value_counts().sort_index()\n",
        "\n",
        "# Visualizar la distribución de transacciones por número de productos\n",
        "plt.bar(transaction_lengths_counts.index, transaction_lengths_counts.values)\n",
        "plt.xlabel('Número de Productos en la Transacción')\n",
        "plt.ylabel('Número de Transacciones')\n",
        "plt.title('Distribución de Transacciones por Número de Productos')\n",
        "plt.show()\n"
      ]
    },
    {
      "cell_type": "markdown",
      "metadata": {
        "id": "UzYRcZ_foz1Z"
      },
      "source": [
        "Esto nos proporciona una visualización clara de cómo se distribuyen las transacciones en función del número de productos comprados en cada una, lo que nos permite comprender mejor la estructura de nuestros datos de transacciones.\n",
        "\n",
        "- Importamos la biblioteca `matplotlib.pyplot`, que nos permitirá crear visualizaciones gráficas de los datos.\n",
        "- Utilizamos la función `apply()`de pandas para aplicar la función len a cada lista de productos en la columna 'Productos', lo que nos da el número de productos en cada transacción.\n",
        "- Luego, contamos la frecuencia de cada longitud de transacción utilizando `value_counts()`.\n",
        "- Ordenamos los resultados por el número de productos en cada transacción `usando sort_index()`.\n",
        "- Creamos un gráfico de barras utilizando `plt.bar()` donde el eje x representa el número de productos en la transacción y el eje y representa el número de transacciones con esa cantidad de productos.\n",
        "- Etiquetamos los ejes x e y con 'Número de Productos en la Transacción' y 'Número de Transacciones', respectivamente.\n",
        "- Añadimos un título al gráfico con 'Distribución de Transacciones por Número de Productos'.\n",
        "- Mostramos el gráfico utilizando `plt.show()`.\n",
        "\n",
        "\n",
        "#### Aplicación de FP-Growth\n",
        "\n",
        "Convertiremos la lista de productos en una matriz binaria, similar al ejemplo de Apriori. Luego, aplicamos el algoritmo FP-Growth para encontrar conjuntos de ítems frecuentes en la matriz binaria."
      ]
    },
    {
      "cell_type": "code",
      "execution_count": null,
      "metadata": {
        "id": "_OB9NAdeoz1a",
        "outputId": "d6f80bc8-aa89-45d5-f8ce-dddd9ead3d79"
      },
      "outputs": [
        {
          "name": "stdout",
          "output_type": "stream",
          "text": [
            "Los 10 conjuntos de ítems frecuentes más grandes:\n",
            "     support              itemsets\n",
            "0      0.513            (Galletas)\n",
            "1      0.508              (Huevos)\n",
            "2      0.506             (Cerveza)\n",
            "8      0.506            (Verduras)\n",
            "3      0.505           (Chocolate)\n",
            "5      0.503              (Frutas)\n",
            "4      0.500                 (Pan)\n",
            "6      0.500               (Queso)\n",
            "7      0.472               (Leche)\n",
            "431    0.309  (Galletas, Verduras)\n"
          ]
        }
      ],
      "source": [
        "from mlxtend.frequent_patterns import fpgrowth\n",
        "\n",
        "# Convertir la lista de productos en una matriz binaria\n",
        "basket_sets = pd.get_dummies(df_transactions['Productos'].apply(pd.Series).stack()).groupby(level=0).max()\n",
        "\n",
        "# Generar conjuntos de ítems frecuentes con el algoritmo FP-Growth\n",
        "frequent_itemsets_fp = fpgrowth(basket_sets, min_support=0.05, use_colnames=True)\n",
        "\n",
        "# Mostrar los 10 conjuntos de ítems frecuentes más grandes\n",
        "largest_frequent_itemsets_fp = frequent_itemsets_fp.sort_values(by='support', ascending=False).head(10)\n",
        "print(\"Los 10 conjuntos de ítems frecuentes más grandes:\")\n",
        "print(largest_frequent_itemsets_fp)\n"
      ]
    },
    {
      "cell_type": "markdown",
      "metadata": {
        "id": "oxpMyn3Coz1a"
      },
      "source": [
        "Explicando el código:\n",
        "\n",
        "- Importamos la función `fpgrowth` del módulo `mlxtend.frequent_patterns`, que implementa el algoritmo FP-Growth.\n",
        "- Utilizamos `pd.get_dummies()` para convertir la lista de productos en una matriz binaria, similar al ejemplo de Apriori.\n",
        "- Después, agrupamos la matriz binaria por nivel de índice 0 (transacciones) y tomamos el máximo en cada grupo para obtener una única fila por transacción.\n",
        "- Aplicamos el algoritmo FP-Growth utilizando la función `fpgrowth()`.\n",
        "- Especificamos un umbral de soporte mínimo del 5% con `min_support=0.05`.\n",
        "- `use_colnames=True` se utiliza para que los nombres de las columnas se utilicen como nombres de los ítems en lugar de los índices de las columnas.\n",
        "- Ordenamos los conjuntos de ítems frecuentes encontrados por FP-Growth por su soporte en orden descendente.\n",
        "- Imprimimos los 10 conjuntos de ítems frecuentes más grandes.\n",
        "\n",
        "\n",
        "####  Generación de Reglas de Asociación\n",
        "\n",
        "Con todo lo anteior ya realizado, entonces procedemos a usar las reglas de asociación a partir de los conjuntos de ítems frecuentes encontrados por FP-Growth y luego filtramos las reglas basadas en ciertos criterios como la confianza y el soporte."
      ]
    },
    {
      "cell_type": "code",
      "execution_count": null,
      "metadata": {
        "id": "EahBNKSpoz1a",
        "outputId": "7f0f1952-d27d-4f20-bea8-852a9ee50512"
      },
      "outputs": [
        {
          "name": "stdout",
          "output_type": "stream",
          "text": [
            "Reglas de Asociación filtradas:\n",
            "               antecedents consequents  antecedent support  \\\n",
            "8       (Huevos, Verduras)   (Cerveza)               0.304   \n",
            "9        (Huevos, Cerveza)  (Verduras)               0.291   \n",
            "10     (Verduras, Cerveza)    (Huevos)               0.301   \n",
            "14      (Huevos, Galletas)   (Cerveza)               0.303   \n",
            "15       (Huevos, Cerveza)  (Galletas)               0.291   \n",
            "...                    ...         ...                 ...   \n",
            "9336            (Galletas)  (Verduras)               0.513   \n",
            "9337            (Verduras)  (Galletas)               0.506   \n",
            "9338    (Huevos, Galletas)  (Verduras)               0.303   \n",
            "9339    (Huevos, Verduras)  (Galletas)               0.304   \n",
            "9340  (Galletas, Verduras)    (Huevos)               0.309   \n",
            "\n",
            "      consequent support  support  confidence      lift  leverage  conviction  \\\n",
            "8                  0.506    0.197    0.648026  1.280684  0.043176    1.403514   \n",
            "9                  0.506    0.197    0.676976  1.337897  0.049754    1.529298   \n",
            "10                 0.508    0.197    0.654485  1.288356  0.044092    1.423962   \n",
            "14                 0.506    0.188    0.620462  1.226210  0.034682    1.301583   \n",
            "15                 0.513    0.188    0.646048  1.259353  0.038717    1.375893   \n",
            "...                  ...      ...         ...       ...       ...         ...   \n",
            "9336               0.506    0.309    0.602339  1.190394  0.049422    1.242265   \n",
            "9337               0.513    0.309    0.610672  1.190394  0.049422    1.250873   \n",
            "9338               0.506    0.200    0.660066  1.304478  0.046682    1.453223   \n",
            "9339               0.513    0.200    0.657895  1.282446  0.044048    1.423538   \n",
            "9340               0.508    0.200    0.647249  1.274113  0.043028    1.394752   \n",
            "\n",
            "      zhangs_metric  \n",
            "8          0.314896  \n",
            "9          0.356218  \n",
            "10         0.320196  \n",
            "14         0.264675  \n",
            "15         0.290468  \n",
            "...             ...  \n",
            "9336       0.328422  \n",
            "9337       0.323769  \n",
            "9338       0.334878  \n",
            "9339       0.316437  \n",
            "9340       0.311346  \n",
            "\n",
            "[719 rows x 10 columns]\n"
          ]
        }
      ],
      "source": [
        "from mlxtend.frequent_patterns import association_rules\n",
        "\n",
        "# Generar reglas de asociación\n",
        "rules_fp = association_rules(frequent_itemsets_fp, metric='lift', min_threshold=1.0)\n",
        "\n",
        "# Filtrar reglas por confianza y soporte\n",
        "filtered_rules_fp = rules_fp[(rules_fp['confidence'] > 0.6) & (rules_fp['support'] > 0.1)]\n",
        "\n",
        "print(\"Reglas de Asociación filtradas:\")\n",
        "print(filtered_rules_fp)\n"
      ]
    },
    {
      "cell_type": "markdown",
      "metadata": {
        "id": "ht6pNS4voz1a"
      },
      "source": [
        "Que hicimos en estas ultimas lineas:\n",
        "\n",
        "- Utilizamos la función `association_rules` del módulo `mlxtend.frequent_patterns` para generar un conjunto de reglas de asociación a partir de los conjuntos de ítems frecuentes encontrados por FP-Growth.\n",
        "- `frequent_itemsets_fp` es el DataFrame que contiene los conjuntos de ítems frecuentes obtenidos previamente con FP-Growth.\n",
        "`metric='lift'` especifica la métrica a utilizar para medir la calidad de las reglas de asociación. En este caso, estamos utilizando el lift.\n",
        "- `min_threshold=1.0` establece el umbral mínimo para la métrica especificada. En este caso, estamos configurando el umbral mínimo de lift en 1.0.\n",
        "- Filtramos las reglas de asociación generadas por `association_rules` utilizando criterios de confianza y soporte.\n",
        "- En este caso, estamos filtrando las reglas para que tengan una confianza mayor que 0.6 y un soporte mayor que 0.1.\n",
        "- Finalmente, imprimimos las reglas de asociación filtradas para examinarlas y comprender mejor las relaciones entre los ítems.\n"
      ]
    },
    {
      "cell_type": "markdown",
      "metadata": {
        "id": "m8mu8GHCoz1a"
      },
      "source": [
        "#### BUT.... WHAT IF?\n",
        "\n",
        "Que pasaria si cambiamos las variables de soporte y confianza? si cambiamos esos valores que usamos anteriormente?"
      ]
    },
    {
      "cell_type": "code",
      "execution_count": null,
      "metadata": {
        "id": "wCbwaIl0oz1a",
        "outputId": "54f04f43-19a2-4516-c055-3857ebcc1288"
      },
      "outputs": [
        {
          "name": "stdout",
          "output_type": "stream",
          "text": [
            "\n",
            "Reglas de Asociación con confianza > 0.4:\n",
            "               antecedents consequents  antecedent support  \\\n",
            "0                 (Huevos)  (Galletas)               0.508   \n",
            "1               (Galletas)    (Huevos)               0.513   \n",
            "2                 (Huevos)   (Cerveza)               0.508   \n",
            "3                (Cerveza)    (Huevos)               0.506   \n",
            "4               (Galletas)   (Cerveza)               0.513   \n",
            "...                    ...         ...                 ...   \n",
            "9336            (Galletas)  (Verduras)               0.513   \n",
            "9337            (Verduras)  (Galletas)               0.506   \n",
            "9338    (Huevos, Galletas)  (Verduras)               0.303   \n",
            "9339    (Huevos, Verduras)  (Galletas)               0.304   \n",
            "9340  (Galletas, Verduras)    (Huevos)               0.309   \n",
            "\n",
            "      consequent support  support  confidence      lift  leverage  conviction  \\\n",
            "0                  0.513    0.303    0.596457  1.162684  0.042396    1.206810   \n",
            "1                  0.508    0.303    0.590643  1.162684  0.042396    1.201886   \n",
            "2                  0.506    0.291    0.572835  1.132084  0.033952    1.156461   \n",
            "3                  0.508    0.291    0.575099  1.132084  0.033952    1.157916   \n",
            "4                  0.506    0.291    0.567251  1.121050  0.031422    1.141541   \n",
            "...                  ...      ...         ...       ...       ...         ...   \n",
            "9336               0.506    0.309    0.602339  1.190394  0.049422    1.242265   \n",
            "9337               0.513    0.309    0.610672  1.190394  0.049422    1.250873   \n",
            "9338               0.506    0.200    0.660066  1.304478  0.046682    1.453223   \n",
            "9339               0.513    0.200    0.657895  1.282446  0.044048    1.423538   \n",
            "9340               0.508    0.200    0.647249  1.274113  0.043028    1.394752   \n",
            "\n",
            "      zhangs_metric  \n",
            "0          0.284392  \n",
            "1          0.287312  \n",
            "2          0.237141  \n",
            "3          0.236181  \n",
            "4          0.221724  \n",
            "...             ...  \n",
            "9336       0.328422  \n",
            "9337       0.323769  \n",
            "9338       0.334878  \n",
            "9339       0.316437  \n",
            "9340       0.311346  \n",
            "\n",
            "[1399 rows x 10 columns]\n"
          ]
        }
      ],
      "source": [
        "# Reducir el umbral de confianza\n",
        "low_confidence_rules = rules_fp[(rules_fp['confidence'] > 0.4) & (rules_fp['support'] > 0.1)]\n",
        "print(\"\\nReglas de Asociación con confianza > 0.4:\")\n",
        "print(low_confidence_rules)"
      ]
    },
    {
      "cell_type": "code",
      "execution_count": null,
      "metadata": {
        "id": "AZzs_30ooz1a",
        "outputId": "05a282a5-04a8-4baf-8854-f1edddf20607"
      },
      "outputs": [
        {
          "name": "stdout",
          "output_type": "stream",
          "text": [
            "\n",
            "Reglas de Asociación con soporte > 0.2:\n",
            "                antecedents  consequents  antecedent support  \\\n",
            "40              (Chocolate)   (Galletas)               0.505   \n",
            "46              (Chocolate)   (Verduras)               0.505   \n",
            "47               (Verduras)  (Chocolate)               0.506   \n",
            "74    (Chocolate, Galletas)     (Huevos)               0.307   \n",
            "75      (Chocolate, Huevos)   (Galletas)               0.292   \n",
            "76       (Huevos, Galletas)  (Chocolate)               0.303   \n",
            "164   (Chocolate, Galletas)   (Verduras)               0.307   \n",
            "165   (Chocolate, Verduras)   (Galletas)               0.304   \n",
            "166    (Galletas, Verduras)  (Chocolate)               0.309   \n",
            "183                   (Pan)   (Verduras)               0.500   \n",
            "190   (Chocolate, Galletas)        (Pan)               0.307   \n",
            "191        (Chocolate, Pan)   (Galletas)               0.297   \n",
            "192         (Galletas, Pan)  (Chocolate)               0.299   \n",
            "228     (Verduras, Cerveza)        (Pan)               0.301   \n",
            "229         (Verduras, Pan)    (Cerveza)               0.303   \n",
            "230          (Pan, Cerveza)   (Verduras)               0.295   \n",
            "2842               (Frutas)   (Galletas)               0.503   \n",
            "2843             (Galletas)     (Frutas)               0.513   \n",
            "2852  (Chocolate, Galletas)     (Frutas)               0.307   \n",
            "2853    (Chocolate, Frutas)   (Galletas)               0.299   \n",
            "2854     (Frutas, Galletas)  (Chocolate)               0.308   \n",
            "2986     (Frutas, Galletas)     (Huevos)               0.308   \n",
            "2987       (Frutas, Huevos)   (Galletas)               0.298   \n",
            "2988     (Huevos, Galletas)     (Frutas)               0.303   \n",
            "3265                (Queso)   (Galletas)               0.500   \n",
            "9335             (Verduras)     (Huevos)               0.506   \n",
            "9336             (Galletas)   (Verduras)               0.513   \n",
            "9337             (Verduras)   (Galletas)               0.506   \n",
            "\n",
            "      consequent support  support  confidence      lift  leverage  conviction  \\\n",
            "40                 0.513    0.307    0.607921  1.185031  0.047935    1.242096   \n",
            "46                 0.506    0.304    0.601980  1.189684  0.048470    1.241144   \n",
            "47                 0.505    0.304    0.600791  1.189684  0.048470    1.239950   \n",
            "74                 0.508    0.204    0.664495  1.308061  0.048044    1.466447   \n",
            "75                 0.513    0.204    0.698630  1.361852  0.054204    1.615955   \n",
            "76                 0.505    0.204    0.673267  1.333203  0.050985    1.515000   \n",
            "164                0.506    0.206    0.671010  1.326106  0.050658    1.501564   \n",
            "165                0.513    0.206    0.677632  1.320919  0.050048    1.510694   \n",
            "166                0.505    0.206    0.666667  1.320132  0.049955    1.485000   \n",
            "183                0.506    0.303    0.606000  1.197628  0.050000    1.253807   \n",
            "190                0.500    0.201    0.654723  1.309446  0.047500    1.448113   \n",
            "191                0.513    0.201    0.676768  1.319235  0.048639    1.506656   \n",
            "192                0.505    0.201    0.672241  1.331170  0.050005    1.510255   \n",
            "228                0.500    0.202    0.671096  1.342193  0.051500    1.520202   \n",
            "229                0.506    0.202    0.666667  1.317523  0.048682    1.482000   \n",
            "230                0.506    0.202    0.684746  1.353252  0.052730    1.566989   \n",
            "2842               0.513    0.308    0.612326  1.193618  0.049961    1.256210   \n",
            "2843               0.503    0.308    0.600390  1.193618  0.049961    1.243712   \n",
            "2852               0.503    0.209    0.680782  1.353443  0.054579    1.556929   \n",
            "2853               0.513    0.209    0.698997  1.362567  0.055613    1.617922   \n",
            "2854               0.505    0.209    0.678571  1.343706  0.053460    1.540000   \n",
            "2986               0.508    0.202    0.655844  1.291032  0.045536    1.429585   \n",
            "2987               0.513    0.202    0.677852  1.321350  0.049126    1.511729   \n",
            "2988               0.503    0.202    0.666667  1.325381  0.049591    1.491000   \n",
            "3265               0.513    0.304    0.608000  1.185185  0.047500    1.242347   \n",
            "9335               0.508    0.304    0.600791  1.182658  0.046952    1.232436   \n",
            "9336               0.506    0.309    0.602339  1.190394  0.049422    1.242265   \n",
            "9337               0.513    0.309    0.610672  1.190394  0.049422    1.250873   \n",
            "\n",
            "      zhangs_metric  \n",
            "40         0.315434  \n",
            "46         0.322103  \n",
            "47         0.322755  \n",
            "74         0.339841  \n",
            "75         0.375291  \n",
            "76         0.358575  \n",
            "164        0.354852  \n",
            "165        0.349068  \n",
            "166        0.350941  \n",
            "183        0.330033  \n",
            "190        0.341008  \n",
            "191        0.344218  \n",
            "192        0.354895  \n",
            "228        0.364736  \n",
            "229        0.345768  \n",
            "230        0.370269  \n",
            "2842       0.326380  \n",
            "2843       0.333082  \n",
            "2852       0.376831  \n",
            "2853       0.379588  \n",
            "2854       0.369638  \n",
            "2986       0.325760  \n",
            "2987       0.346436  \n",
            "2988       0.352224  \n",
            "3265       0.312500  \n",
            "9335       0.312646  \n",
            "9336       0.328422  \n",
            "9337       0.323769  \n"
          ]
        }
      ],
      "source": [
        "# Incrementar el umbral de soporte\n",
        "high_support_rules = rules_fp[(rules_fp['confidence'] > 0.6) & (rules_fp['support'] > 0.2)]\n",
        "print(\"\\nReglas de Asociación con soporte > 0.2:\")\n",
        "print(high_support_rules)"
      ]
    },
    {
      "cell_type": "markdown",
      "metadata": {
        "id": "5KkXlc_moz1a"
      },
      "source": [
        "Aquí, agregamos un análisis de sensibilidad para explorar cómo cambian las reglas de asociación al modificar los valores de confianza y soporte.\n",
        "\n",
        "- Cambio en el umbral de confianza: Si reducimos el umbral de confianza, obtendremos un conjunto más grande de reglas de asociación, ya que se incluirán reglas con una confianza más baja. Esto puede aumentar la cantidad de reglas generadas, pero algunas de ellas pueden ser menos significativas o menos confiables.\n",
        "\n",
        "- Cambio en el umbral de soporte: Si incrementamos el umbral de soporte, obtendremos un conjunto más pequeño de reglas de asociación, ya que se incluirán solo las reglas basadas en conjuntos de ítems más frecuentes. Esto puede reducir la cantidad de reglas generadas, pero estas reglas tendrán un soporte más alto y, por lo tanto, serán más significativas."
      ]
    },
    {
      "cell_type": "markdown",
      "metadata": {
        "id": "U9gQksHQoz1a"
      },
      "source": [
        "#### !No lo olvides¡\n",
        "\n",
        "Al ajustar los valores de confianza y soporte, es importante considerar el equilibrio entre la cantidad y la calidad de las reglas generadas, así como la interpretación y aplicabilidad de dichas reglas en el contexto del análisis de datos específico."
      ]
    },
    {
      "cell_type": "markdown",
      "metadata": {
        "id": "Ffl-yC27oz1a"
      },
      "source": [
        "## Ejemplo 3\n",
        "\n",
        "Ya no estamos trabajando con transacciones de una tienda minorista. Ahora, podríamos considerar otro ejemplo como el análisis de interacciones de usuarios en un sitio web. En este caso, vamos tener datos que representan las páginas visitadas por los usuarios durante una sesión en el sitio web. Cada sesión podría ser una transacción y las páginas visitadas podrían ser los ítems.\n",
        "\n",
        "Entonces, analizaremos los patrones de comportamiento de los usuarios para entender qué páginas suelen ser visitadas juntas, lo cual podría ser útil para la personalización del contenido, la optimización de la navegación del sitio web, entre otros propósitos.\n",
        "\n",
        "\n",
        "#### Generación de Datos de Interacciones de Usuarios en un Sitio Web  \n",
        "\n",
        "Generaremos un conjunto de datos sintéticos que representan las interacciones de los usuarios en un sitio web. Cada fila del DataFrame representará una sesión de usuario con las páginas visitadas durante esa sesión. Este conjunto de datos se utilizará en los siguientes bloques de código para realizar análisis y aplicar el algoritmo ECLAT."
      ]
    },
    {
      "cell_type": "code",
      "execution_count": null,
      "metadata": {
        "id": "gx4rrxrmoz1a"
      },
      "outputs": [],
      "source": [
        "import numpy as np\n",
        "import pandas as pd\n",
        "import matplotlib.pyplot as plt\n",
        "\n",
        "# Configuración de datos sintéticos\n",
        "np.random.seed(42)  # Para reproducibilidad\n",
        "\n",
        "# Generación de datos sintéticos\n",
        "usuarios = ['Usuario_' + str(i) for i in range(1, 101)]  # 100 usuarios\n",
        "paginas = ['Pagina_' + str(i) for i in range(1, 21)]  # 20 páginas en el sitio web\n",
        "sesiones_por_usuario = np.random.randint(5, 15, size=len(usuarios))  # Sesiones por usuario entre 5 y 15\n",
        "data = []\n",
        "\n",
        "# Generar registros de sesiones de usuarios\n",
        "for usuario, sesiones in zip(usuarios, sesiones_por_usuario):\n",
        "    for _ in range(sesiones):\n",
        "        paginas_visitadas = np.random.choice(paginas, size=np.random.randint(1, 6), replace=False)  # Entre 1 y 5 páginas visitadas por sesión\n",
        "        data.append([usuario, ','.join(paginas_visitadas)])\n",
        "\n",
        "# Crear DataFrame\n",
        "df = pd.DataFrame(data, columns=['Usuario', 'Paginas_visitadas'])\n",
        "\n",
        "\n"
      ]
    },
    {
      "cell_type": "markdown",
      "metadata": {
        "id": "s2okZmWNoz1a"
      },
      "source": [
        "revisemos las lineas anteriores:\n",
        "\n",
        "- Importamos las bibliotecas necesarias para generar y manipular datos, así como para crear visualizaciones. Utilizamos `NumPy` para la generación de números aleatorios, `Pandas` para la manipulación de datos tabulares y `Matplotlib `para la visualización de datos.\n",
        "\n",
        "- Establecemos una semilla aleatoria utilizando `np.random.seed(42)`. Esto garantiza que los resultados generados sean reproducibles.\n",
        "\n",
        "- Creamos dos listas: `'usuarios'` y `'paginas'`. La lista usuarios contiene 100 elementos que representan a los usuarios del sitio web (denominados como \"Usuario_1\", \"Usuario_2\", ..., \"Usuario_100\"). La lista paginas contiene 20 elementos que representan las páginas del sitio web (denominadas como \"Pagina_1\", \"Pagina_2\", ..., \"Pagina_20\").\n",
        "\n",
        "- Generamos un número aleatorio de sesiones para cada usuario utilizando `np.random.randint(5, 15, size=len(usuarios))`. Esto devuelve una matriz de números enteros aleatorios entre 5 y 15 (ambos inclusive) que representa la cantidad de sesiones por usuario.\n",
        "\n",
        "- Iteramos sobre cada usuario y generamos sesiones de páginas visitadas utilizando un bucle `for `anidado. Para cada usuario, generamos un número aleatorio de sesiones (según la matriz generada anteriormente) y, para cada sesión, seleccionamos de forma aleatoria entre 1 y 5 páginas del sitio web sin reemplazo `(np.random.choice(paginas, size=np.random.randint(1, 6), replace=False))`. Esto simula las páginas visitadas por cada usuario durante cada sesión.\n",
        "\n",
        "- Almacenamos los datos generados en una lista llamada `data`. Cada elemento de la lista `data` es una lista que contiene el nombre del usuario y las páginas visitadas durante una sesión, separadas por comas.\n",
        "\n",
        "- Utilizamos el constructor de DataFrame de Pandas `(pd.DataFrame()) `para convertir la lista de datos data en un DataFrame. Especificamos los nombres de las columnas como `'Usuario'` y `'Paginas_visitadas'`.\n",
        "\n",
        "\n",
        "#### Visualización de los Datos\n",
        "\n",
        "Este bloque de código nos permitirá visualizar los datos de las interacciones de usuarios en el sitio web, mostrando las páginas visitadas más frecuentemente en un gráfico."
      ]
    },
    {
      "cell_type": "code",
      "execution_count": null,
      "metadata": {
        "id": "Ms3ydauYoz1a",
        "outputId": "b16beb22-517d-493b-e2ba-2a800fce669e"
      },
      "outputs": [
        {
          "data": {
            "image/png": "[encoded data removed]",
            "text/plain": [
              "<Figure size 1000x600 with 1 Axes>"
            ]
          },
          "metadata": {},
          "output_type": "display_data"
        }
      ],
      "source": [
        "\n",
        "# Visualización de datos\n",
        "\n",
        "# Contar el número de páginas visitadas por sesión\n",
        "num_paginas_visitadas = df['Paginas_visitadas'].apply(lambda x: len(x.split(',')))\n",
        "\n",
        "# Histograma\n",
        "plt.figure(figsize=(10, 6))\n",
        "plt.hist(num_paginas_visitadas, bins=range(1, 8), align='left', edgecolor='black')\n",
        "plt.xlabel('Número de Páginas Visitadas por Sesión')\n",
        "plt.ylabel('Frecuencia')\n",
        "plt.title('Distribución del Número de Páginas Visitadas por Sesión')\n",
        "plt.xticks(range(1, 8))\n",
        "plt.grid(True)\n",
        "plt.show()\n"
      ]
    },
    {
      "cell_type": "markdown",
      "metadata": {
        "id": "hZsFAoaEoz1a"
      },
      "source": [
        "Aquí calculamos el número de páginas visitadas por sesión y visualiza la distribución de este número mediante un histograma. Veamos el proceso:\n",
        "\n",
        "- Creamos una nueva serie llamada `num_paginas_visitadas`, que contiene el número de páginas visitadas por sesión. Utilizamos el método `apply()` junto con una función lambda para dividir las páginas visitadas en cada sesión (almacenadas como una cadena separada por comas en la columna `'Paginas_visitadas'`) y luego calcular la longitud de la lista resultante.\n",
        "\n",
        "- Creamos un histograma para visualizar la distribución del número de páginas visitadas por sesión.\n",
        "\n",
        "- Utilizamos `plt.hist()` para crear el histograma. Especificamos la serie num_paginas_visitadas como los datos de entrada y definimos los contenedores del histograma utilizando `bins=range(1, 8)` para tener un contenedor por cada número entero del 1 al 7.\n",
        "\n",
        "- Configuramos la alineación de los bordes de los contenedores utilizando `align='left'` para que los contenedores estén alineados a la izquierda.\n",
        "\n",
        "- Añadimos bordes a los contenedores utilizando `edgecolor='black'`.\n",
        "\n",
        "- Etiquetamos los ejes x e y utilizando `plt.xlabel()` y `plt.ylabel() `y añadimos un título al histograma utilizando `plt.title().`\n",
        "\n",
        "- Configuramos los marcadores en el eje x utilizando `plt.xticks()` para mostrar todos los números enteros del 1 al 7.\n",
        "\n",
        "- Habilitamos las líneas de la cuadrícula utilizando `plt.grid(True)` y mostramos el histograma utilizando `plt.show()`.\n",
        "\n",
        "\n",
        "#### Aplicación del Algoritmo Eclat\n",
        "\n",
        "Encontraremos conjuntos de páginas web frecuentemente visitadas por los usuarios en el sitio web utilizando el algoritmo ECLAT y mostraremos los resultados junto con su parametro de soporte.\n",
        "\n",
        "Recordemos que el parámetro de soporte en el contexto del algoritmo ECLAT (y en otros algoritmos de minería de patrones frecuentes) es un valor que establece el umbral mínimo de ocurrencia que un conjunto de elementos debe cumplir para considerarse frecuente. En otras palabras, el soporte es la medida de la frecuencia con la que un conjunto de elementos aparece en el conjunto de datos."
      ]
    },
    {
      "cell_type": "code",
      "execution_count": null,
      "metadata": {
        "id": "WRvDGUYZoz1b",
        "outputId": "e926d65b-0900-48db-a68b-ea16ae45e32e"
      },
      "outputs": [
        {
          "name": "stdout",
          "output_type": "stream",
          "text": [
            "Conjunto de páginas: ('Pagina_7',), Soporte: 163\n",
            "Conjunto de páginas: ('Pagina_12',), Soporte: 161\n",
            "Conjunto de páginas: ('Pagina_13',), Soporte: 161\n",
            "Conjunto de páginas: ('Pagina_18',), Soporte: 158\n",
            "Conjunto de páginas: ('Pagina_17',), Soporte: 154\n",
            "Conjunto de páginas: ('Pagina_8',), Soporte: 153\n",
            "Conjunto de páginas: ('Pagina_4',), Soporte: 152\n",
            "Conjunto de páginas: ('Pagina_6',), Soporte: 152\n",
            "Conjunto de páginas: ('Pagina_16',), Soporte: 152\n",
            "Conjunto de páginas: ('Pagina_11',), Soporte: 152\n",
            "Conjunto de páginas: ('Pagina_1',), Soporte: 151\n",
            "Conjunto de páginas: ('Pagina_9',), Soporte: 151\n",
            "Conjunto de páginas: ('Pagina_3',), Soporte: 146\n",
            "Conjunto de páginas: ('Pagina_15',), Soporte: 145\n",
            "Conjunto de páginas: ('Pagina_14',), Soporte: 144\n",
            "Conjunto de páginas: ('Pagina_10',), Soporte: 142\n",
            "Conjunto de páginas: ('Pagina_20',), Soporte: 139\n",
            "Conjunto de páginas: ('Pagina_5',), Soporte: 138\n",
            "Conjunto de páginas: ('Pagina_19',), Soporte: 134\n",
            "Conjunto de páginas: ('Pagina_2',), Soporte: 133\n"
          ]
        }
      ],
      "source": [
        "from fim import eclat\n",
        "\n",
        "# Convertir las páginas visitadas por cada usuario en listas\n",
        "interacciones = df['Paginas_visitadas'].apply(lambda x: x.split(',')).tolist()\n",
        "\n",
        "# Ejecutar ECLAT\n",
        "conjuntos_frecuentes = eclat(interacciones, supp=10)  # Supp=10 significa que los conjuntos deben aparecer en al menos 10 sesiones de usuario\n",
        "\n",
        "# Mostrar los conjuntos de páginas web frecuentemente visitadas encontrados\n",
        "for conjunto, soporte in conjuntos_frecuentes:\n",
        "    print(f\"Conjunto de páginas: {conjunto}, Soporte: {soporte}\")\n",
        "\n",
        "\n"
      ]
    },
    {
      "cell_type": "markdown",
      "metadata": {
        "id": "2RHOxnMfoz1b"
      },
      "source": [
        "Esto nos proporciona información sobre patrones de interacción comunes entre los usuarios del sitio web. Aquí, vemos el codigo que nos ayuda a realizar esto:\n",
        "\n",
        "- Importamos la función `eclat` del módulo `fim` de la biblioteca `pyfim`. Esta función implementa el algoritmo ECLAT que utilizaremos para encontrar conjuntos de páginas web frecuentemente visitadas.\n",
        "\n",
        "- Convertimos las páginas visitadas por cada usuario en listas de interacciones utilizando una función `lambda` y `apply()`. Esto separa las páginas visitadas en cada sesión (almacenadas como una cadena separada por comas en la columna `'Paginas_visitadas'`) y las convierte en listas de páginas visitadas.\n",
        "\n",
        "- Convertimos el resultado en una lista llamada `interacciones`.\n",
        "\n",
        "- Llamamos a la función `eclat()` con los datos de interacciones y un parámetro `supp=10`. Esto ejecuta el algoritmo ECLAT para encontrar conjuntos de páginas web que aparecen en al menos 10 sesiones de usuario.\n",
        "\n",
        "- Iteramos sobre los conjuntos de páginas web frecuentemente visitadas (`conjuntos_frecuentes`) y mostramos cada conjunto junto con su soporte (número de sesiones en las que aparece).\n",
        "\n",
        "##### !Dato Importante¡:\n",
        "\n",
        "Ajustar el valor del parámetro de soporte afectará la cantidad y la naturaleza de los conjuntos de elementos frecuentes encontrados por el algoritmo ECLAT. Un valor más alto de soporte conducirá a la identificación de conjuntos más específicos y menos frecuentes, mientras que un valor más bajo de soporte permitirá encontrar conjuntos más generales y frecuentes.\n",
        "\n",
        "En última instancia, la elección del valor de soporte depende de los requisitos específicos del análisis y de la naturaleza de los datos.\n",
        "\n",
        "\n",
        "\n",
        "#### Visualizar los resultados obtenidos\n",
        "\n",
        "Visualizar muchas veces nos ayuda identificar de manera efectiva los datos, en este caso, veremos las páginas web más relevantes y frecuentemente visitadas por los usuarios en el sitio web.\n"
      ]
    },
    {
      "cell_type": "code",
      "execution_count": null,
      "metadata": {
        "id": "d8dHFulqoz1b",
        "outputId": "49d8cd37-8d74-4e5e-e4b7-710c50350e3a"
      },
      "outputs": [
        {
          "name": "stdout",
          "output_type": "stream",
          "text": [
            "  Conjunto de Páginas  Soporte\n",
            "0            Pagina_7      163\n",
            "2           Pagina_13      161\n",
            "1           Pagina_12      161\n",
            "3           Pagina_18      158\n",
            "4           Pagina_17      154\n",
            "5            Pagina_8      153\n",
            "6            Pagina_4      152\n",
            "7            Pagina_6      152\n",
            "8           Pagina_16      152\n",
            "9           Pagina_11      152\n"
          ]
        },
        {
          "data": {
            "image/png": "[encoded data removed]",
            "text/plain": [
              "<Figure size 1000x600 with 1 Axes>"
            ]
          },
          "metadata": {},
          "output_type": "display_data"
        }
      ],
      "source": [
        "import matplotlib.pyplot as plt\n",
        "\n",
        "# Visualización de resultados\n",
        "# Crear un DataFrame con los resultados\n",
        "resultados = pd.DataFrame(conjuntos_frecuentes, columns=['Conjunto de Páginas', 'Soporte'])\n",
        "\n",
        "# Convertir los conjuntos de páginas a cadenas de texto\n",
        "resultados['Conjunto de Páginas'] = resultados['Conjunto de Páginas'].apply(lambda x: ', '.join(x))\n",
        "\n",
        "# Ordenar los resultados por soporte descendente\n",
        "resultados = resultados.sort_values(by='Soporte', ascending=False)\n",
        "\n",
        "# Mostrar los 10 conjuntos de páginas más frecuentes\n",
        "top_10_resultados = resultados.head(10)\n",
        "print(top_10_resultados)\n",
        "\n",
        "# Visualizar los 10 conjuntos de páginas más frecuentes\n",
        "plt.figure(figsize=(10, 6))\n",
        "plt.barh(top_10_resultados['Conjunto de Páginas'], top_10_resultados['Soporte'], color='skyblue')\n",
        "plt.xlabel('Soporte')\n",
        "plt.ylabel('Conjunto de Páginas')\n",
        "plt.title('Top 10 Conjuntos de Páginas Frecuentemente Visitadas')\n",
        "plt.gca().invert_yaxis()  # Invertir el eje y para que el conjunto con el mayor soporte esté en la parte superior\n",
        "plt.show()\n",
        "\n"
      ]
    },
    {
      "cell_type": "markdown",
      "metadata": {
        "id": "MqsvQHuooz1b"
      },
      "source": [
        "\n",
        "Describamos el proceso:\n",
        "\n",
        "- Creamos un DataFrame llamado `resultados` que contiene los conjuntos de páginas web frecuentemente visitadas junto con su soporte. Utilizamos los resultados obtenidos del algoritmo ECLAT (`conjuntos_frecuentes`) para crear este DataFrame.\n",
        "\n",
        "- Ordenamos el DataFrame `resultados` por el soporte en orden descendente, de modo que los conjuntos de páginas con mayor soporte aparezcan primero.\n",
        "\n",
        "- Seleccionamos los 10 primeros conjuntos de páginas más frecuentes utilizando `resultados.head(10)`.\n",
        "\n",
        "- Imprimimos estos resultados en la consola para tener una visualización rápida de los conjuntos de páginas y sus soportes.\n",
        "\n",
        "- Creamos un gráfico de barras horizontales para visualizar los 10 primeros conjuntos de páginas más frecuentes.\n",
        "Utilizamos `plt.barh()` para crear el gráfico de barras. Especificamos los conjuntos de páginas en el eje y y sus soportes en el eje x.\n",
        "\n",
        "- Configuramos las etiquetas de los ejes x e y y el título del gráfico.\n",
        "\n",
        "- Invertimos el eje y utilizando `plt.gca().invert_yaxis()` para que el conjunto con el mayor soporte esté en la parte superior del gráfico.\n",
        "\n",
        "ECLAT, al igual que otros algoritmos de minería de patrones frecuentes, nos ofrece una herramienta poderosa para explorar grandes conjuntos de datos en busca de asociaciones entre elementos.\n",
        "\n",
        "Una de las ventajas clave de ECLAT es su eficiencia computacional y su capacidad para manejar conjuntos de datos de gran tamaño. Sin embargo, es importante tener en cuenta que el éxito del algoritmo ECLAT depende en gran medida de la calidad y la representatividad de los datos de entrada. Además, la interpretación de los resultados obtenidos por ECLAT requiere un conocimiento profundo del dominio del problema y un análisis cuidadoso para extraer insights significativos."
      ]
    },
    {
      "cell_type": "markdown",
      "metadata": {
        "id": "JBGN8CFYoz1b"
      },
      "source": [
        "## Actividad: Análisis de Patrones de Reproducción en un Sitio de Streaming de Música\n",
        "\n",
        "#### Contexto:\n",
        "Imagina que eres un analista de datos en un popular sitio de streaming de música y tu tarea es analizar los patrones de reproducción de los usuarios para identificar tendencias y preferencias de escucha.\n",
        "\n",
        "#### Pregunta de Investigación:\n",
        "¿Qué canciones suelen reproducirse juntas con mayor frecuencia en el sitio de streaming de música?\n",
        "\n",
        "#### Datos Sintéticos:\n",
        "Utilizaremos un conjunto de datos sintéticos que representan las reproducciones de canciones por parte de los usuarios. Cada instancia contendrá una lista de canciones reproducidas por un usuario en una sola sesión de escucha."
      ]
    },
    {
      "cell_type": "code",
      "execution_count": null,
      "metadata": {
        "id": "ZcGqrJ9Qoz1b"
      },
      "outputs": [],
      "source": [
        "# Datos de ejemplo (lista de sesiones de escucha)\n",
        "listening_sessions = [['cancion1', 'cancion3', 'cancion5'],\n",
        "                      ['cancion2', 'cancion4', 'cancion6'],\n",
        "                      ['cancion1', 'cancion2', 'cancion5'],\n",
        "                      ['cancion1', 'cancion3', 'cancion4'],\n",
        "                      ['cancion2', 'cancion3', 'cancion4', 'cancion5']]\n"
      ]
    },
    {
      "cell_type": "markdown",
      "metadata": {
        "id": "yP7gPIePoz1b"
      },
      "source": [
        "#### Preguntas a Resolver:\n",
        "\n",
        "¿Cuáles son los conjuntos de canciones frecuentes en las sesiones de escucha de los usuarios?\n",
        "¿Cuáles son las reglas de asociación más fuertes entre las canciones reproducidas?\n",
        "¿Qué canciones suelen reproducirse juntas con mayor frecuencia?"
      ]
    },
    {
      "cell_type": "markdown",
      "metadata": {
        "id": "2SeOgo6soz1b"
      },
      "source": [
        "## Solución\n",
        "\n",
        "Tenemos que utilizar el algoritmo Apriori para encontrar conjuntos de ítems frecuentes en las sesiones de escucha de los usuarios. Luego, generaremos reglas de asociación basadas en estos conjuntos de ítems y calcularemos medidas como soporte, confianza y lift para identificar las reglas más fuertes. Finalmente, examinaremos los resultados para responder a las preguntas planteadas.\n"
      ]
    },
    {
      "cell_type": "code",
      "execution_count": null,
      "metadata": {
        "id": "ETZV4h5_oz1i",
        "outputId": "f1d5d0f8-8e38-4086-881b-fac720dcbe6a"
      },
      "outputs": [
        {
          "name": "stdout",
          "output_type": "stream",
          "text": [
            "Solucion Pregunta 1 - Conjuntos de canciones frecuentes:\n",
            "    support                                  itemsets\n",
            "0       0.6                                (cancion1)\n",
            "1       0.6                                (cancion2)\n",
            "2       0.6                                (cancion3)\n",
            "3       0.6                                (cancion4)\n",
            "4       0.6                                (cancion5)\n",
            "5       0.2                                (cancion6)\n",
            "6       0.2                      (cancion2, cancion1)\n",
            "7       0.4                      (cancion1, cancion3)\n",
            "8       0.2                      (cancion4, cancion1)\n",
            "9       0.4                      (cancion5, cancion1)\n",
            "10      0.2                      (cancion2, cancion3)\n",
            "11      0.4                      (cancion2, cancion4)\n",
            "12      0.4                      (cancion2, cancion5)\n",
            "13      0.2                      (cancion2, cancion6)\n",
            "14      0.4                      (cancion4, cancion3)\n",
            "15      0.4                      (cancion5, cancion3)\n",
            "16      0.2                      (cancion4, cancion5)\n",
            "17      0.2                      (cancion4, cancion6)\n",
            "18      0.2            (cancion2, cancion5, cancion1)\n",
            "19      0.2            (cancion4, cancion1, cancion3)\n",
            "20      0.2            (cancion5, cancion1, cancion3)\n",
            "21      0.2            (cancion2, cancion4, cancion3)\n",
            "22      0.2            (cancion2, cancion5, cancion3)\n",
            "23      0.2            (cancion2, cancion4, cancion5)\n",
            "24      0.2            (cancion2, cancion4, cancion6)\n",
            "25      0.2            (cancion4, cancion5, cancion3)\n",
            "26      0.2  (cancion2, cancion4, cancion3, cancion5)\n"
          ]
        }
      ],
      "source": [
        "import pandas as pd\n",
        "from mlxtend.frequent_patterns import apriori, association_rules\n",
        "\n",
        "# Datos de ejemplo (lista de sesiones de escucha)\n",
        "listening_sessions = [['cancion1', 'cancion3', 'cancion5'],\n",
        "                      ['cancion2', 'cancion4', 'cancion6'],\n",
        "                      ['cancion1', 'cancion2', 'cancion5'],\n",
        "                      ['cancion1', 'cancion3', 'cancion4'],\n",
        "                      ['cancion2', 'cancion3', 'cancion4', 'cancion5']]\n",
        "\n",
        "# Convertir las sesiones de escucha en un DataFrame binario\n",
        "df = pd.get_dummies(pd.DataFrame(listening_sessions).stack()).groupby(level=0).max()\n",
        "\n",
        "# Obtener conjuntos de canciones frecuentes usando Apriori\n",
        "frequent_itemsets = apriori(df, min_support=0.2, use_colnames=True)\n",
        "\n",
        "# Mostrar los conjuntos de canciones frecuentes\n",
        "print(\"Solucion Pregunta 1 - Conjuntos de canciones frecuentes:\")\n",
        "print(frequent_itemsets)\n",
        "\n",
        "\n",
        "\n"
      ]
    },
    {
      "cell_type": "markdown",
      "metadata": {
        "id": "C8V_J_KQoz1i"
      },
      "source": [
        "#### Solución 1:\n",
        "\n",
        "¿Cuáles son los conjuntos de canciones frecuentes en las sesiones de escucha de los usuarios?\n",
        "\n",
        "La respuesta a esta pregunta se encuentra en el DataFrame `frequent_itemsets`, donde encontraremos los conjuntos de canciones que cumplen con el umbral mínimo de soporte establecido. Estos conjuntos representan las combinaciones de canciones que se reproducen con frecuencia juntas en las sesiones de escucha de los usuarios."
      ]
    },
    {
      "cell_type": "code",
      "execution_count": null,
      "metadata": {
        "id": "JT7HKzuloz1i",
        "outputId": "9f4f0c28-a773-419b-cf1e-dd3cc45d37cc"
      },
      "outputs": [
        {
          "name": "stdout",
          "output_type": "stream",
          "text": [
            "Solucion Pregunta 2 - Reglas de asociación más fuertes:\n",
            "                       antecedents                     consequents  \\\n",
            "42            (cancion4, cancion5)            (cancion2, cancion3)   \n",
            "39            (cancion2, cancion3)            (cancion4, cancion5)   \n",
            "26            (cancion2, cancion4)                      (cancion6)   \n",
            "31                      (cancion6)            (cancion2, cancion4)   \n",
            "24            (cancion4, cancion5)                      (cancion2)   \n",
            "32            (cancion4, cancion5)                      (cancion3)   \n",
            "25                      (cancion2)            (cancion4, cancion5)   \n",
            "27            (cancion2, cancion6)                      (cancion4)   \n",
            "28            (cancion4, cancion6)                      (cancion2)   \n",
            "29                      (cancion2)            (cancion4, cancion6)   \n",
            "30                      (cancion4)            (cancion2, cancion6)   \n",
            "34  (cancion2, cancion4, cancion3)                      (cancion5)   \n",
            "33                      (cancion3)            (cancion4, cancion5)   \n",
            "22            (cancion2, cancion3)                      (cancion5)   \n",
            "35  (cancion2, cancion4, cancion5)                      (cancion3)   \n",
            "36  (cancion2, cancion5, cancion3)                      (cancion4)   \n",
            "37  (cancion4, cancion5, cancion3)                      (cancion2)   \n",
            "44                      (cancion2)  (cancion4, cancion5, cancion3)   \n",
            "45                      (cancion4)  (cancion2, cancion5, cancion3)   \n",
            "46                      (cancion3)  (cancion2, cancion4, cancion5)   \n",
            "23                      (cancion5)            (cancion2, cancion3)   \n",
            "47                      (cancion5)  (cancion2, cancion4, cancion3)   \n",
            "21                      (cancion4)            (cancion2, cancion3)   \n",
            "16            (cancion2, cancion1)                      (cancion5)   \n",
            "8                       (cancion2)                      (cancion6)   \n",
            "20            (cancion2, cancion3)                      (cancion4)   \n",
            "14                      (cancion4)                      (cancion6)   \n",
            "15                      (cancion6)                      (cancion4)   \n",
            "9                       (cancion6)                      (cancion2)   \n",
            "17                      (cancion5)            (cancion2, cancion1)   \n",
            "19                      (cancion3)            (cancion4, cancion1)   \n",
            "18            (cancion4, cancion1)                      (cancion3)   \n",
            "43            (cancion5, cancion3)            (cancion2, cancion4)   \n",
            "41            (cancion4, cancion3)            (cancion2, cancion5)   \n",
            "40            (cancion2, cancion5)            (cancion4, cancion3)   \n",
            "38            (cancion2, cancion4)            (cancion5, cancion3)   \n",
            "1                       (cancion3)                      (cancion1)   \n",
            "7                       (cancion5)                      (cancion2)   \n",
            "10                      (cancion4)                      (cancion3)   \n",
            "6                       (cancion2)                      (cancion5)   \n",
            "11                      (cancion3)                      (cancion4)   \n",
            "12                      (cancion5)                      (cancion3)   \n",
            "5                       (cancion4)                      (cancion2)   \n",
            "13                      (cancion3)                      (cancion5)   \n",
            "4                       (cancion2)                      (cancion4)   \n",
            "3                       (cancion1)                      (cancion5)   \n",
            "2                       (cancion5)                      (cancion1)   \n",
            "0                       (cancion1)                      (cancion3)   \n",
            "\n",
            "    antecedent support  consequent support  support  confidence      lift  \\\n",
            "42                 0.2                 0.2      0.2    1.000000  5.000000   \n",
            "39                 0.2                 0.2      0.2    1.000000  5.000000   \n",
            "26                 0.4                 0.2      0.2    0.500000  2.500000   \n",
            "31                 0.2                 0.4      0.2    1.000000  2.500000   \n",
            "24                 0.2                 0.6      0.2    1.000000  1.666667   \n",
            "32                 0.2                 0.6      0.2    1.000000  1.666667   \n",
            "25                 0.6                 0.2      0.2    0.333333  1.666667   \n",
            "27                 0.2                 0.6      0.2    1.000000  1.666667   \n",
            "28                 0.2                 0.6      0.2    1.000000  1.666667   \n",
            "29                 0.6                 0.2      0.2    0.333333  1.666667   \n",
            "30                 0.6                 0.2      0.2    0.333333  1.666667   \n",
            "34                 0.2                 0.6      0.2    1.000000  1.666667   \n",
            "33                 0.6                 0.2      0.2    0.333333  1.666667   \n",
            "22                 0.2                 0.6      0.2    1.000000  1.666667   \n",
            "35                 0.2                 0.6      0.2    1.000000  1.666667   \n",
            "36                 0.2                 0.6      0.2    1.000000  1.666667   \n",
            "37                 0.2                 0.6      0.2    1.000000  1.666667   \n",
            "44                 0.6                 0.2      0.2    0.333333  1.666667   \n",
            "45                 0.6                 0.2      0.2    0.333333  1.666667   \n",
            "46                 0.6                 0.2      0.2    0.333333  1.666667   \n",
            "23                 0.6                 0.2      0.2    0.333333  1.666667   \n",
            "47                 0.6                 0.2      0.2    0.333333  1.666667   \n",
            "21                 0.6                 0.2      0.2    0.333333  1.666667   \n",
            "16                 0.2                 0.6      0.2    1.000000  1.666667   \n",
            "8                  0.6                 0.2      0.2    0.333333  1.666667   \n",
            "20                 0.2                 0.6      0.2    1.000000  1.666667   \n",
            "14                 0.6                 0.2      0.2    0.333333  1.666667   \n",
            "15                 0.2                 0.6      0.2    1.000000  1.666667   \n",
            "9                  0.2                 0.6      0.2    1.000000  1.666667   \n",
            "17                 0.6                 0.2      0.2    0.333333  1.666667   \n",
            "19                 0.6                 0.2      0.2    0.333333  1.666667   \n",
            "18                 0.2                 0.6      0.2    1.000000  1.666667   \n",
            "43                 0.4                 0.4      0.2    0.500000  1.250000   \n",
            "41                 0.4                 0.4      0.2    0.500000  1.250000   \n",
            "40                 0.4                 0.4      0.2    0.500000  1.250000   \n",
            "38                 0.4                 0.4      0.2    0.500000  1.250000   \n",
            "1                  0.6                 0.6      0.4    0.666667  1.111111   \n",
            "7                  0.6                 0.6      0.4    0.666667  1.111111   \n",
            "10                 0.6                 0.6      0.4    0.666667  1.111111   \n",
            "6                  0.6                 0.6      0.4    0.666667  1.111111   \n",
            "11                 0.6                 0.6      0.4    0.666667  1.111111   \n",
            "12                 0.6                 0.6      0.4    0.666667  1.111111   \n",
            "5                  0.6                 0.6      0.4    0.666667  1.111111   \n",
            "13                 0.6                 0.6      0.4    0.666667  1.111111   \n",
            "4                  0.6                 0.6      0.4    0.666667  1.111111   \n",
            "3                  0.6                 0.6      0.4    0.666667  1.111111   \n",
            "2                  0.6                 0.6      0.4    0.666667  1.111111   \n",
            "0                  0.6                 0.6      0.4    0.666667  1.111111   \n",
            "\n",
            "    leverage  conviction  zhangs_metric  \n",
            "42      0.16         inf       1.000000  \n",
            "39      0.16         inf       1.000000  \n",
            "26      0.12         1.6       1.000000  \n",
            "31      0.12         inf       0.750000  \n",
            "24      0.08         inf       0.500000  \n",
            "32      0.08         inf       0.500000  \n",
            "25      0.08         1.2       1.000000  \n",
            "27      0.08         inf       0.500000  \n",
            "28      0.08         inf       0.500000  \n",
            "29      0.08         1.2       1.000000  \n",
            "30      0.08         1.2       1.000000  \n",
            "34      0.08         inf       0.500000  \n",
            "33      0.08         1.2       1.000000  \n",
            "22      0.08         inf       0.500000  \n",
            "35      0.08         inf       0.500000  \n",
            "36      0.08         inf       0.500000  \n",
            "37      0.08         inf       0.500000  \n",
            "44      0.08         1.2       1.000000  \n",
            "45      0.08         1.2       1.000000  \n",
            "46      0.08         1.2       1.000000  \n",
            "23      0.08         1.2       1.000000  \n",
            "47      0.08         1.2       1.000000  \n",
            "21      0.08         1.2       1.000000  \n",
            "16      0.08         inf       0.500000  \n",
            "8       0.08         1.2       1.000000  \n",
            "20      0.08         inf       0.500000  \n",
            "14      0.08         1.2       1.000000  \n",
            "15      0.08         inf       0.500000  \n",
            "9       0.08         inf       0.500000  \n",
            "17      0.08         1.2       1.000000  \n",
            "19      0.08         1.2       1.000000  \n",
            "18      0.08         inf       0.500000  \n",
            "43      0.04         1.2       0.333333  \n",
            "41      0.04         1.2       0.333333  \n",
            "40      0.04         1.2       0.333333  \n",
            "38      0.04         1.2       0.333333  \n",
            "1       0.04         1.2       0.250000  \n",
            "7       0.04         1.2       0.250000  \n",
            "10      0.04         1.2       0.250000  \n",
            "6       0.04         1.2       0.250000  \n",
            "11      0.04         1.2       0.250000  \n",
            "12      0.04         1.2       0.250000  \n",
            "5       0.04         1.2       0.250000  \n",
            "13      0.04         1.2       0.250000  \n",
            "4       0.04         1.2       0.250000  \n",
            "3       0.04         1.2       0.250000  \n",
            "2       0.04         1.2       0.250000  \n",
            "0       0.04         1.2       0.250000  \n"
          ]
        }
      ],
      "source": [
        "###### Solucion pregunta 2\n",
        "\n",
        "# Generar reglas de asociación\n",
        "rules = association_rules(frequent_itemsets, metric=\"lift\", min_threshold=1)\n",
        "\n",
        "# Ordenar las reglas por lift en orden descendente\n",
        "rules = rules.sort_values(by='lift', ascending=False)\n",
        "\n",
        "# Mostrar las reglas de asociación más fuertes\n",
        "print(\"Solucion Pregunta 2 - Reglas de asociación más fuertes:\")\n",
        "print(rules)\n"
      ]
    },
    {
      "cell_type": "markdown",
      "metadata": {
        "id": "e3kIHOUtoz1i"
      },
      "source": [
        "#### Solución 2:\n",
        "\n",
        "¿Cuáles son las reglas de asociación más fuertes entre las canciones reproducidas?\n",
        "\n",
        "Las reglas de asociación más fuertes se encuentran en el DataFrame `rules`, que contiene información sobre las reglas generadas a partir de los conjuntos de ítems frecuentes. Cada regla tiene una medida de confianza y lift que nos permite evaluar su fuerza."
      ]
    },
    {
      "cell_type": "code",
      "execution_count": null,
      "metadata": {
        "id": "pgZ8J7hfoz1i",
        "outputId": "bdab657f-7404-47c8-aa05-4a0bf418cc7b"
      },
      "outputs": [
        {
          "name": "stdout",
          "output_type": "stream",
          "text": [
            "Solucion Pregunta 3 - Reglas con alta confianza y alto lift:\n",
            "                       antecedents           consequents  antecedent support  \\\n",
            "42            (cancion4, cancion5)  (cancion2, cancion3)                 0.2   \n",
            "39            (cancion2, cancion3)  (cancion4, cancion5)                 0.2   \n",
            "31                      (cancion6)  (cancion2, cancion4)                 0.2   \n",
            "24            (cancion4, cancion5)            (cancion2)                 0.2   \n",
            "32            (cancion4, cancion5)            (cancion3)                 0.2   \n",
            "27            (cancion2, cancion6)            (cancion4)                 0.2   \n",
            "28            (cancion4, cancion6)            (cancion2)                 0.2   \n",
            "34  (cancion2, cancion4, cancion3)            (cancion5)                 0.2   \n",
            "22            (cancion2, cancion3)            (cancion5)                 0.2   \n",
            "35  (cancion2, cancion4, cancion5)            (cancion3)                 0.2   \n",
            "36  (cancion2, cancion5, cancion3)            (cancion4)                 0.2   \n",
            "37  (cancion4, cancion5, cancion3)            (cancion2)                 0.2   \n",
            "16            (cancion2, cancion1)            (cancion5)                 0.2   \n",
            "20            (cancion2, cancion3)            (cancion4)                 0.2   \n",
            "15                      (cancion6)            (cancion4)                 0.2   \n",
            "9                       (cancion6)            (cancion2)                 0.2   \n",
            "18            (cancion4, cancion1)            (cancion3)                 0.2   \n",
            "\n",
            "    consequent support  support  confidence      lift  leverage  conviction  \\\n",
            "42                 0.2      0.2         1.0  5.000000      0.16         inf   \n",
            "39                 0.2      0.2         1.0  5.000000      0.16         inf   \n",
            "31                 0.4      0.2         1.0  2.500000      0.12         inf   \n",
            "24                 0.6      0.2         1.0  1.666667      0.08         inf   \n",
            "32                 0.6      0.2         1.0  1.666667      0.08         inf   \n",
            "27                 0.6      0.2         1.0  1.666667      0.08         inf   \n",
            "28                 0.6      0.2         1.0  1.666667      0.08         inf   \n",
            "34                 0.6      0.2         1.0  1.666667      0.08         inf   \n",
            "22                 0.6      0.2         1.0  1.666667      0.08         inf   \n",
            "35                 0.6      0.2         1.0  1.666667      0.08         inf   \n",
            "36                 0.6      0.2         1.0  1.666667      0.08         inf   \n",
            "37                 0.6      0.2         1.0  1.666667      0.08         inf   \n",
            "16                 0.6      0.2         1.0  1.666667      0.08         inf   \n",
            "20                 0.6      0.2         1.0  1.666667      0.08         inf   \n",
            "15                 0.6      0.2         1.0  1.666667      0.08         inf   \n",
            "9                  0.6      0.2         1.0  1.666667      0.08         inf   \n",
            "18                 0.6      0.2         1.0  1.666667      0.08         inf   \n",
            "\n",
            "    zhangs_metric  \n",
            "42           1.00  \n",
            "39           1.00  \n",
            "31           0.75  \n",
            "24           0.50  \n",
            "32           0.50  \n",
            "27           0.50  \n",
            "28           0.50  \n",
            "34           0.50  \n",
            "22           0.50  \n",
            "35           0.50  \n",
            "36           0.50  \n",
            "37           0.50  \n",
            "16           0.50  \n",
            "20           0.50  \n",
            "15           0.50  \n",
            "9            0.50  \n",
            "18           0.50  \n"
          ]
        }
      ],
      "source": [
        "\n",
        "###### Solucion pregunta 3\n",
        "## Filtrar las reglas por una alta confianza y un alto lift\n",
        "strong_rules = rules[(rules['confidence'] > 0.8) & (rules['lift'] > 1.5)]\n",
        "\n",
        "# Mostrar las reglas filtradas\n",
        "print(\"Solucion Pregunta 3 - Reglas con alta confianza y alto lift:\")\n",
        "print(strong_rules)\n"
      ]
    },
    {
      "cell_type": "markdown",
      "metadata": {
        "id": "HyWj0QWHoz1i"
      },
      "source": [
        "#### Solución 3:\n",
        "\n",
        "¿Qué canciones suelen reproducirse juntas con mayor frecuencia?\n",
        "\n",
        "Para responder a esta pregunta, podemos examinar las reglas de asociación generadas y buscar aquellas con una alta confianza y un alto lift. Estas reglas nos indicarán qué canciones tienden a reproducirse juntas con mayor frecuencia y pueden ser útiles para recomendaciones de música personalizadas o campañas de promoción cruzada entre canciones."
      ]
    }
  ],
  "metadata": {
    "colab": {
      "include_colab_link": true,
      "provenance": []
    },
    "kernelspec": {
      "display_name": "env",
      "language": "python",
      "name": "python3"
    },
    "language_info": {
      "codemirror_mode": {
        "name": "ipython",
        "version": 3
      },
      "file_extension": ".py",
      "mimetype": "text/x-python",
      "name": "python",
      "nbconvert_exporter": "python",
      "pygments_lexer": "ipython3",
      "version": "3.8.10"
    },
    "orig_nbformat": 4
  },
  "nbformat": 4,
  "nbformat_minor": 0
}
